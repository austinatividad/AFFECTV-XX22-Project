{
 "cells": [
  {
   "cell_type": "code",
   "execution_count": null,
   "id": "7096f05e-ec9e-48fc-9b35-c3d31afd8f86",
   "metadata": {},
   "outputs": [],
   "source": [
    "import pandas as pd\n",
    "import numpy as np\n",
    "import keras\n",
    "import time"
   ]
  },
  {
   "cell_type": "code",
   "execution_count": null,
   "id": "44e577a4-6114-4f77-98e8-0e41a52224d8",
   "metadata": {},
   "outputs": [],
   "source": [
    "#importing the datasets (train_set_augmented for all landmarks, train_set_augmented_simplified for simplified landmarks)\n",
    "train_set_full = pd.read_csv('outputs/test_set_augmented.csv')\n",
    "test_set_left = pd.read_csv('outputs/test_set_augmented_left.csv')\n",
    "test_set_simplified = pd.read_csv('outputs/test_set_augmented_simplified.csv')"
   ]
  },
  {
   "cell_type": "code",
   "execution_count": null,
   "id": "053e45e2-9e17-4b38-ac47-d73897e58c4b",
   "metadata": {},
   "outputs": [],
   "source": [
    "sample_size = 30"
   ]
  },
  {
   "cell_type": "code",
   "execution_count": null,
   "id": "dc45f0ad-1eed-4881-8a09-52faed98c708",
   "metadata": {},
   "outputs": [],
   "source": [
    "sample_full_df = train_set_full.sample(n=sample_size)\n",
    "sample_left_df = test_set_left.sample(n=sample_size)\n",
    "sample_simplified_df = test_set_simplified.sample(n=sample_size)"
   ]
  },
  {
   "cell_type": "code",
   "execution_count": null,
   "id": "49ac84c7-2cd5-4dbe-a127-e251228e6e7c",
   "metadata": {},
   "outputs": [],
   "source": [
    "sample_full_df"
   ]
  },
  {
   "cell_type": "code",
   "execution_count": null,
   "id": "0a6a8a4a-c595-47f8-9036-543150d44bfa",
   "metadata": {},
   "outputs": [],
   "source": [
    "sample_full_df.iloc[0, 1:]"
   ]
  },
  {
   "cell_type": "markdown",
   "id": "73c61e12-0a1b-4d92-abd8-799fe7f9c09c",
   "metadata": {},
   "source": [
    "## CNN Performance Testing Results"
   ]
  },
  {
   "cell_type": "code",
   "execution_count": null,
   "id": "531d4123-60b3-4a68-87eb-485240e16301",
   "metadata": {},
   "outputs": [],
   "source": [
    "#importing the datasets (train_set_augmented for all landmarks, train_set_augmented_simplified for simplified landmarks)\n",
    "stat_full = pd.read_csv('CNN/stat_train_features.csv')\n",
    "stat_left = pd.read_csv('CNN/stat_train_features_left.csv')\n",
    "stat_simplified = pd.read_csv('CNN/stat_train_features_simplified.csv')"
   ]
  },
  {
   "cell_type": "code",
   "execution_count": null,
   "id": "5f085ff9-2c30-496c-9b16-8d0392a2651d",
   "metadata": {},
   "outputs": [],
   "source": [
    "def scale_face_landmarks(face_landmarks, mean_list, std_list):\n",
    "    for i in range(len(face_landmarks)):\n",
    "        face_landmarks[i] = (face_landmarks[i] - mean_list[i]) / std_list[i]\n",
    "\n",
    "    return face_landmarks\n",
    "\n",
    "def testModel(emotion_model, sample, stat_df, time_array):\n",
    "    mean_list = stat_df['mean'].to_list()\n",
    "    std_list = stat_df['std'].to_list()\n",
    "\n",
    "    #Go through each image\n",
    "    for idx, row in sample.iterrows():\n",
    "        #1. Retrieve the landmarks first\n",
    "        face_landmarks = row[1:].to_list()\n",
    "        \n",
    "        start_time = time.perf_counter()\n",
    "        face_landmarks = scale_face_landmarks(face_landmarks, mean_list, std_list)\n",
    "        predicted_emotion = emotion_model.predict(np.array([face_landmarks,]))\n",
    "        end_time = time.perf_counter()\n",
    "\n",
    "        elapsed_time = end_time  - start_time\n",
    "        time_array.append(elapsed_time)\n",
    "        print(str(elapsed_time), end=\",\")"
   ]
  },
  {
   "cell_type": "code",
   "execution_count": null,
   "id": "daa9d564-1357-4a33-bb68-6969208e99b1",
   "metadata": {},
   "outputs": [],
   "source": [
    "def get_average(time_array):\n",
    "    sum = 0\n",
    "    for i in range(len(time_array)):\n",
    "        sum += time_array[i]\n",
    "\n",
    "    return sum / sample_size"
   ]
  },
  {
   "cell_type": "markdown",
   "id": "613a43ce-b6cc-446e-a36c-43f43307dd40",
   "metadata": {},
   "source": [
    "### Full Face"
   ]
  },
  {
   "cell_type": "code",
   "execution_count": null,
   "id": "210ffb0b-9254-44d5-b703-9cb7c1f231a0",
   "metadata": {},
   "outputs": [],
   "source": [
    "cnn_times = []\n",
    "emotion_detection_wd = 'CNN/emotion_model.keras'"
   ]
  },
  {
   "cell_type": "code",
   "execution_count": null,
   "id": "91ec090d-9b61-4225-a7ff-a50b0157974e",
   "metadata": {},
   "outputs": [],
   "source": [
    "cnn_full_time_array = []\n",
    "cnn_full_model = keras.models.load_model(emotion_detection_wd)\n",
    "testModel(cnn_full_model, sample_full_df, stat_full, cnn_full_time_array)"
   ]
  },
  {
   "cell_type": "code",
   "execution_count": null,
   "id": "43f6fc78-83c0-481d-9eeb-af692813ddb7",
   "metadata": {},
   "outputs": [],
   "source": [
    "cnn_times.append(get_average(cnn_full_time_array) * 1000)\n",
    "print(\"Average Time for CNN Full Model for 100 trials:\", cnn_times[0], \"milliseconds\")"
   ]
  },
  {
   "cell_type": "markdown",
   "id": "587f1eda-c2f9-4a98-8f06-b94c85f8fc61",
   "metadata": {},
   "source": [
    "### Left Face"
   ]
  },
  {
   "cell_type": "code",
   "execution_count": null,
   "id": "5d437279-8e0f-467c-b7e4-3de8e0cec5f9",
   "metadata": {},
   "outputs": [],
   "source": [
    "emotion_detection_wd_left = 'CNN/emotion_model_left.keras'"
   ]
  },
  {
   "cell_type": "code",
   "execution_count": null,
   "id": "a9275f56-2455-49bf-9621-39540602e0b6",
   "metadata": {},
   "outputs": [],
   "source": [
    "cnn_left_time_array = []\n",
    "cnn_left_model = keras.models.load_model(emotion_detection_wd_left)\n",
    "testModel(cnn_left_model, sample_left_df, stat_left, cnn_left_time_array)"
   ]
  },
  {
   "cell_type": "code",
   "execution_count": null,
   "id": "8f3d7044-62d6-488b-af2c-ab3370f5e2fc",
   "metadata": {},
   "outputs": [],
   "source": [
    "cnn_times.append(get_average(cnn_left_time_array) * 1000)\n",
    "print(\"Average Time CNN Left Model for 100 trials:\", cnn_times[1], \"milliseconds\")"
   ]
  },
  {
   "cell_type": "markdown",
   "id": "6058419a-4604-4d73-ae3f-4325d5e9a0d4",
   "metadata": {},
   "source": [
    "### Simplified Face"
   ]
  },
  {
   "cell_type": "code",
   "execution_count": null,
   "id": "a923fd24-757a-4936-9da1-e20c2478e8c1",
   "metadata": {},
   "outputs": [],
   "source": [
    "emotion_detection_wd_simplified = 'CNN/emotion_model_simplified.keras'"
   ]
  },
  {
   "cell_type": "code",
   "execution_count": null,
   "id": "46954d2d-651b-41be-9f53-1a83058ea01d",
   "metadata": {},
   "outputs": [],
   "source": [
    "cnn_simplified_time_array = []\n",
    "cnn_simplified_model = keras.models.load_model(emotion_detection_wd_simplified)\n",
    "testModel(cnn_simplified_model, sample_simplified_df, stat_simplified, cnn_simplified_time_array)"
   ]
  },
  {
   "cell_type": "code",
   "execution_count": null,
   "id": "4ad6efbb-ccaa-462d-ac66-17cc8f93381e",
   "metadata": {},
   "outputs": [],
   "source": [
    "cnn_times.append(get_average(cnn_simplified_time_array) * 1000)\n",
    "print(\"Average Time CNN Simplified Model for 100 trials:\", cnn_times[2], \"milliseconds\")"
   ]
  },
  {
   "cell_type": "markdown",
   "id": "2d2bc8fe-0687-435b-bd31-adf7b1298dca",
   "metadata": {},
   "source": [
    "## SVM Performance Testing Results"
   ]
  },
  {
   "cell_type": "code",
   "execution_count": null,
   "id": "f251ffe9-1859-4ba7-be63-12e336a0036a",
   "metadata": {},
   "outputs": [],
   "source": [
    "!pip install scikit-learn==1.0.2"
   ]
  },
  {
   "cell_type": "code",
   "execution_count": null,
   "id": "3bbd173c-44e0-4e85-9af7-e3fec7d6c7d6",
   "metadata": {},
   "outputs": [],
   "source": [
    "from joblib import load"
   ]
  },
  {
   "cell_type": "code",
   "execution_count": null,
   "id": "1c580bea-63c6-4028-bfd9-82244ac62f0e",
   "metadata": {},
   "outputs": [],
   "source": [
    "def testSklearn(emotion_model, sample, time_array):\n",
    "    #Go through each image\n",
    "    for idx, row in sample.iterrows():\n",
    "        face_landmarks = row[1:].to_frame().transpose()\n",
    "        \n",
    "        #1. Retrieve the landmarks first\n",
    "        start_time = time.perf_counter()\n",
    "        predicted_emotion = emotion_model.predict(face_landmarks)\n",
    "        end_time = time.perf_counter()\n",
    "\n",
    "        elapsed_time = end_time  - start_time\n",
    "        time_array.append(elapsed_time)\n",
    "        print(str(elapsed_time), end=\",\")"
   ]
  },
  {
   "cell_type": "code",
   "execution_count": null,
   "id": "9f8d2ec5-9614-4c43-8890-7121f817ba06",
   "metadata": {},
   "outputs": [],
   "source": [
    "svm_times = []"
   ]
  },
  {
   "cell_type": "markdown",
   "id": "fc280fd9-6c36-4750-9b73-f793d34167d9",
   "metadata": {},
   "source": [
    "### Full Face"
   ]
  },
  {
   "cell_type": "code",
   "execution_count": null,
   "id": "f396dda8-3a63-4255-a1d6-07e193b9126f",
   "metadata": {},
   "outputs": [],
   "source": [
    "svm_full_time_array = []\n",
    "svm_full_model = load('SVM/svm_c-1000_gamma-0.1_augmented.joblib')"
   ]
  },
  {
   "cell_type": "code",
   "execution_count": null,
   "id": "b6d5ee58-c487-4f34-891c-a97611694791",
   "metadata": {},
   "outputs": [],
   "source": [
    "testSklearn(svm_full_model, sample_full_df, svm_full_time_array)"
   ]
  },
  {
   "cell_type": "code",
   "execution_count": null,
   "id": "fa458d67-25fe-4a9d-b69d-87e8ea5ec415",
   "metadata": {},
   "outputs": [],
   "source": [
    "svm_times.append(get_average(svm_full_time_array) * 1000)\n",
    "print(\"Average Time SVM Full Model for 100 trials:\", svm_times[0], \"milliseconds\")"
   ]
  },
  {
   "cell_type": "markdown",
   "id": "1ea5d3c2-cd3e-4db8-94f5-dfaff1e517f2",
   "metadata": {},
   "source": [
    "### Left Face"
   ]
  },
  {
   "cell_type": "code",
   "execution_count": null,
   "id": "540fd335-91ab-41a1-8069-36ddc53def44",
   "metadata": {},
   "outputs": [],
   "source": [
    "svm_left_time_array = []\n",
    "svm_left_model = load('SVM/svm_c-100_gamma-1_left.joblib')"
   ]
  },
  {
   "cell_type": "code",
   "execution_count": null,
   "id": "a8af7aec-2d48-4588-888d-be46529936a9",
   "metadata": {},
   "outputs": [],
   "source": [
    "testSklearn(svm_left_model, sample_left_df, svm_left_time_array)"
   ]
  },
  {
   "cell_type": "code",
   "execution_count": null,
   "id": "aa9b03e3-3a95-4a09-a0c4-c7e72b7f2054",
   "metadata": {},
   "outputs": [],
   "source": [
    "svm_times.append(get_average(svm_left_time_array) * 1000)\n",
    "print(\"Average Time SVM Left Model for 100 trials:\", svm_times[1], \"milliseconds\")"
   ]
  },
  {
   "cell_type": "markdown",
   "id": "8871f617-7b4f-4918-a37b-fcbc9d4118e4",
   "metadata": {},
   "source": [
    "### Simplified Face"
   ]
  },
  {
   "cell_type": "code",
   "execution_count": null,
   "id": "a206ed80-6fd4-4cdf-9569-36e98e377bb2",
   "metadata": {},
   "outputs": [],
   "source": [
    "svm_simplified_time_array = []\n",
    "svm_simplified_model = load('SVM/svm_c-100_gamma-1_simplified.joblib')"
   ]
  },
  {
   "cell_type": "code",
   "execution_count": null,
   "id": "6e6f3d4e-bba2-4448-bf46-b41e0e668bb9",
   "metadata": {},
   "outputs": [],
   "source": [
    "testSklearn(svm_simplified_model, sample_simplified_df, svm_simplified_time_array)"
   ]
  },
  {
   "cell_type": "code",
   "execution_count": null,
   "id": "fc190781-f92b-427d-93f6-feb003ec23e4",
   "metadata": {},
   "outputs": [],
   "source": [
    "svm_times.append(get_average(svm_simplified_time_array) * 1000)\n",
    "print(\"Average Time SVM Simplified Model for 100 trials:\", svm_times[2], \"milliseconds\")"
   ]
  },
  {
   "cell_type": "markdown",
   "id": "a80b8e5a-0e4b-4be7-aebc-a0840c683e7a",
   "metadata": {},
   "source": [
    "## KNN Performance Testing Results"
   ]
  },
  {
   "cell_type": "code",
   "execution_count": null,
   "id": "bcab3fe0-8c7e-40d2-b343-e3cf1b0a6d90",
   "metadata": {},
   "outputs": [],
   "source": [
    "knn_times = []"
   ]
  },
  {
   "cell_type": "markdown",
   "id": "af6d7e6b-61de-4ffa-a757-d42a37c61033",
   "metadata": {},
   "source": [
    "### Full Face"
   ]
  },
  {
   "cell_type": "code",
   "execution_count": null,
   "id": "cf37471b-1f83-4a3a-a772-22ce5bb65465",
   "metadata": {},
   "outputs": [],
   "source": [
    "knn_full_time_array = []\n",
    "knn_full_model = load('KNN/knn_n-1_augmented.joblib')"
   ]
  },
  {
   "cell_type": "code",
   "execution_count": null,
   "id": "653cc0a9-8f6d-409a-8450-f7532422fe12",
   "metadata": {},
   "outputs": [],
   "source": [
    "testSklearn(knn_full_model, sample_full_df, knn_full_time_array)"
   ]
  },
  {
   "cell_type": "code",
   "execution_count": null,
   "id": "1fdb1e14-8418-4814-8639-a7aa887e4cd0",
   "metadata": {},
   "outputs": [],
   "source": [
    "knn_times.append(get_average(knn_full_time_array) * 1000)\n",
    "print(\"Average Time KNN Full Model for 100 trials:\", knn_times[0], \"milliseconds\")"
   ]
  },
  {
   "cell_type": "markdown",
   "id": "1f28549a-ac9c-4b9c-b921-4091edcecd11",
   "metadata": {},
   "source": [
    "### Left Face"
   ]
  },
  {
   "cell_type": "code",
   "execution_count": null,
   "id": "400ec3f3-d3f6-43ef-acfb-3a4189fa2d81",
   "metadata": {},
   "outputs": [],
   "source": [
    "knn_left_time_array = []\n",
    "knn_left_model = load('KNN/knn_n-1_left.joblib')"
   ]
  },
  {
   "cell_type": "code",
   "execution_count": null,
   "id": "f48416b7-2486-49d5-a38c-358686b475b4",
   "metadata": {},
   "outputs": [],
   "source": [
    "testSklearn(knn_left_model, sample_left_df, knn_left_time_array)"
   ]
  },
  {
   "cell_type": "code",
   "execution_count": null,
   "id": "1e76d516-79a8-4a6f-a8b4-de281d7d8b7f",
   "metadata": {},
   "outputs": [],
   "source": [
    "knn_times.append(get_average(knn_left_time_array) * 1000)\n",
    "print(\"Average Time KNN Left Model for 100 trials:\", knn_times[1], \"milliseconds\")"
   ]
  },
  {
   "cell_type": "markdown",
   "id": "c9c68dea-ee61-4c39-9129-a13e74c32d44",
   "metadata": {},
   "source": [
    "### Simplified Face"
   ]
  },
  {
   "cell_type": "code",
   "execution_count": null,
   "id": "461c066b-5815-4200-b85d-da199833a237",
   "metadata": {},
   "outputs": [],
   "source": [
    "knn_simplified_time_array = []\n",
    "knn_simplified_model = load('KNN/knn_n-1_simplified.joblib')"
   ]
  },
  {
   "cell_type": "code",
   "execution_count": null,
   "id": "acbd5012-8d0a-40e3-a904-a31fb5a67a1e",
   "metadata": {},
   "outputs": [],
   "source": [
    "testSklearn(knn_simplified_model, sample_simplified_df, knn_simplified_time_array)"
   ]
  },
  {
   "cell_type": "code",
   "execution_count": null,
   "id": "b31b9a02-b64d-40b4-9f5d-67c77982e2fc",
   "metadata": {},
   "outputs": [],
   "source": [
    "knn_times.append(get_average(knn_simplified_time_array) * 1000)\n",
    "print(\"Average Time KNN Simplified Model for 100 trials:\", knn_times[2], \"milliseconds\")"
   ]
  },
  {
   "cell_type": "markdown",
   "id": "c9f666ca-8f62-4d4f-973b-9a2b4140ddd7",
   "metadata": {},
   "source": [
    "## DTC Performance Testing Results"
   ]
  },
  {
   "cell_type": "code",
   "execution_count": null,
   "id": "f242ca9c-5e34-4dcf-8a8f-0697321bcfbe",
   "metadata": {},
   "outputs": [],
   "source": [
    "!pip install scikit-learn==1.4.0"
   ]
  },
  {
   "cell_type": "code",
   "execution_count": null,
   "id": "4abe96db-07fa-40ae-9e1a-c3e381e6fd1a",
   "metadata": {},
   "outputs": [],
   "source": [
    "dtc_times = []"
   ]
  },
  {
   "cell_type": "markdown",
   "id": "5c85478b-d79e-4cf1-b811-12426aad8726",
   "metadata": {},
   "source": [
    "### Full Face"
   ]
  },
  {
   "cell_type": "code",
   "execution_count": null,
   "id": "37555e90-7d61-41bb-b826-eed281fcf6da",
   "metadata": {},
   "outputs": [],
   "source": [
    "dtc_full_time_array = []\n",
    "dtc_full_model = load('./DTC/DTC_Augmented.joblib')"
   ]
  },
  {
   "cell_type": "code",
   "execution_count": null,
   "id": "a1ff596d-6741-43e5-9584-0937f290132d",
   "metadata": {},
   "outputs": [],
   "source": [
    "testSklearn(dtc_full_model, sample_full_df, dtc_full_time_array)"
   ]
  },
  {
   "cell_type": "code",
   "execution_count": null,
   "id": "15f6dd34-3be1-46c7-8abc-3aa96c8ddeb5",
   "metadata": {},
   "outputs": [],
   "source": [
    "dtc_times.append(get_average(dtc_full_time_array) * 1000)\n",
    "print(\"Average Time DTC Full Model for 100 trials:\", dtc_times[0], \"milliseconds\")"
   ]
  },
  {
   "cell_type": "markdown",
   "id": "10c109d6-578a-4e70-a70d-c7b708cb1255",
   "metadata": {},
   "source": [
    "### Left Face"
   ]
  },
  {
   "cell_type": "code",
   "execution_count": null,
   "id": "ec87e396-72c7-46e3-a91e-9df124ca6690",
   "metadata": {},
   "outputs": [],
   "source": [
    "dtc_left_time_array = []\n",
    "dtc_left_model = load('DTC/DTC_best_depth_left.joblib')"
   ]
  },
  {
   "cell_type": "code",
   "execution_count": null,
   "id": "a601f7c8-236d-486e-8808-3236909efe84",
   "metadata": {},
   "outputs": [],
   "source": [
    "testSklearn(dtc_left_model, sample_left_df, dtc_left_time_array)"
   ]
  },
  {
   "cell_type": "code",
   "execution_count": null,
   "id": "7dec88ac-c881-44ee-b222-99f0144207f6",
   "metadata": {},
   "outputs": [],
   "source": [
    "dtc_times.append(get_average(dtc_left_time_array) * 1000)\n",
    "print(\"Average Time DTC Left Model for 100 trials:\", dtc_times[1], \"milliseconds\")"
   ]
  },
  {
   "cell_type": "markdown",
   "id": "5cecc104-7f1b-4bbf-8b7c-554dbfab0a34",
   "metadata": {},
   "source": [
    "### Simplified Face"
   ]
  },
  {
   "cell_type": "code",
   "execution_count": null,
   "id": "1cfc1db3-8386-4532-aba0-2cfe69e44457",
   "metadata": {},
   "outputs": [],
   "source": [
    "dtc_simplified_time_array = []\n",
    "dtc_simplified_model = load('DTC/DTC_Augmented_Simplified.joblib')"
   ]
  },
  {
   "cell_type": "code",
   "execution_count": null,
   "id": "a65f14af-10f4-419a-95e7-267ff829be6a",
   "metadata": {},
   "outputs": [],
   "source": [
    "testSklearn(dtc_simplified_model, sample_simplified_df, dtc_simplified_time_array)"
   ]
  },
  {
   "cell_type": "code",
   "execution_count": null,
   "id": "b0c0d368-ba75-47f1-9f6c-4693977cdafa",
   "metadata": {},
   "outputs": [],
   "source": [
    "dtc_times.append(get_average(dtc_simplified_time_array) * 1000)\n",
    "print(\"Average Time DTC Simplified Model for 100 trials:\", dtc_times[2], \"milliseconds\")"
   ]
  },
  {
   "cell_type": "markdown",
   "id": "607c2784-d01d-4078-9097-fc51419ec3b3",
   "metadata": {},
   "source": [
    "## RF Performance Testing Results"
   ]
  },
  {
   "cell_type": "code",
   "execution_count": null,
   "id": "875465b5-326d-49c4-9997-6c5135604119",
   "metadata": {},
   "outputs": [],
   "source": [
    "rf_times = []"
   ]
  },
  {
   "cell_type": "markdown",
   "id": "c45b6f5a-2b5a-4935-b43f-dee551c3e5ee",
   "metadata": {},
   "source": [
    "### Full Face"
   ]
  },
  {
   "cell_type": "code",
   "execution_count": null,
   "id": "c6e290aa-0cf9-4d78-8001-d4da8374bc0b",
   "metadata": {},
   "outputs": [],
   "source": [
    "rf_full_time_array = []\n",
    "rf_full_model = load('./RF/forest_clf_full.joblib')"
   ]
  },
  {
   "cell_type": "code",
   "execution_count": null,
   "id": "3d19a4ca-5c68-49b6-be38-2c36cc5d0bbd",
   "metadata": {},
   "outputs": [],
   "source": [
    "testSklearn(rf_full_model, sample_full_df, rf_full_time_array)"
   ]
  },
  {
   "cell_type": "code",
   "execution_count": null,
   "id": "df225c5f-47b7-4c52-85bb-35ef49e37e0a",
   "metadata": {},
   "outputs": [],
   "source": [
    "rf_times.append(get_average(rf_full_time_array) * 1000)\n",
    "print(\"Average Time RF Full Model for 100 trials:\", rf_times[0], \"milliseconds\")"
   ]
  },
  {
   "cell_type": "markdown",
   "id": "16362a2d-97b7-485c-b30d-786c0d39954a",
   "metadata": {},
   "source": [
    "### Left Face"
   ]
  },
  {
   "cell_type": "code",
   "execution_count": null,
   "id": "cfcac72b-25de-499d-8cb8-e6a7b897b883",
   "metadata": {},
   "outputs": [],
   "source": [
    "rf_left_time_array = []\n",
    "rf_left_model = load('RF/forest_clf_left.joblib')"
   ]
  },
  {
   "cell_type": "code",
   "execution_count": null,
   "id": "7126d3fd-9358-47aa-9c91-854673bd03c2",
   "metadata": {},
   "outputs": [],
   "source": [
    "testSklearn(rf_left_model, sample_left_df, rf_left_time_array)"
   ]
  },
  {
   "cell_type": "code",
   "execution_count": null,
   "id": "d87c5b10-af9a-42f5-a19b-013ba3cb5c00",
   "metadata": {},
   "outputs": [],
   "source": [
    "rf_times.append(get_average(rf_left_time_array) * 1000)\n",
    "print(\"Average Time RF Left Model for 100 trials:\", rf_times[1], \"milliseconds\")"
   ]
  },
  {
   "cell_type": "markdown",
   "id": "7f033537-eed7-487f-a00b-8ca0739d034e",
   "metadata": {},
   "source": [
    "### Simplified Face"
   ]
  },
  {
   "cell_type": "code",
   "execution_count": null,
   "id": "6fd594e0-1440-4b63-b378-616ebd2654d4",
   "metadata": {},
   "outputs": [],
   "source": [
    "rf_simplified_time_array = []\n",
    "rf_simplified_model = load('RF/forest_clf_simplified.joblib')"
   ]
  },
  {
   "cell_type": "code",
   "execution_count": null,
   "id": "9ffad957-9181-46e0-b1d7-f13db54de2f5",
   "metadata": {},
   "outputs": [],
   "source": [
    "testSklearn(rf_simplified_model, sample_simplified_df, rf_simplified_time_array)"
   ]
  },
  {
   "cell_type": "code",
   "execution_count": null,
   "id": "93502fa8-6d61-440b-b98e-fcebc13e80d5",
   "metadata": {},
   "outputs": [],
   "source": [
    "rf_times.append(get_average(rf_simplified_time_array) * 1000)\n",
    "print(\"Average Time RF Simplified Model for 100 trials:\", rf_times[2], \"milliseconds\")"
   ]
  },
  {
   "cell_type": "markdown",
   "id": "5ff807cb-9464-43bd-be19-bcda3aa44cec",
   "metadata": {},
   "source": [
    "## Summary"
   ]
  },
  {
   "cell_type": "code",
   "execution_count": null,
   "id": "216fca72-4995-4b89-a70c-33a684dd3600",
   "metadata": {},
   "outputs": [],
   "source": [
    "data = {\n",
    "    'Model': ['Full', 'Left', 'Simplified'],\n",
    "    'CNN': cnn_times,\n",
    "    'SVM': svm_times,\n",
    "    'KNN': knn_times,\n",
    "    'DTC': dtc_times,\n",
    "    'RF': rf_times\n",
    "}\n",
    "summary_df = pd.DataFrame(data).set_index('Model')\n",
    "summary_df"
   ]
  },
  {
   "cell_type": "code",
   "execution_count": null,
   "id": "b108b654-524c-40bf-8b38-7d46d5aadaf0",
   "metadata": {},
   "outputs": [],
   "source": [
    "summary_df.to_csv('summary.csv')"
   ]
  }
 ],
 "metadata": {
  "kernelspec": {
   "display_name": "Python 3 (ipykernel)",
   "language": "python",
   "name": "python3"
  },
  "language_info": {
   "codemirror_mode": {
    "name": "ipython",
    "version": 3
   },
   "file_extension": ".py",
   "mimetype": "text/x-python",
   "name": "python",
   "nbconvert_exporter": "python",
   "pygments_lexer": "ipython3",
   "version": "3.11.7"
  }
 },
 "nbformat": 4,
 "nbformat_minor": 5
}
