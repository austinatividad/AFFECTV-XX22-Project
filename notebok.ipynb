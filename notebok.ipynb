{
 "cells": [
  {
   "attachments": {},
   "cell_type": "markdown",
   "metadata": {},
   "source": [
    "# AFFECTV Facial Affect Recognition\n",
    "## Members\n",
    "- DICHOSO, Aaron Gabrielle C.\n",
    "- NATIVIDAD, Josh Austin Mikhail T.\n",
    "- RAZON, Luis Miguel Antonio B."
   ]
  },
  {
   "attachments": {},
   "cell_type": "markdown",
   "metadata": {},
   "source": [
    "# AffectNet\n",
    "**Dataset Description** (from [link](https://paperswithcode.com/dataset/affectnet))\\\n",
    "AffectNet is a large facial expression dataset with around 0.4 million images manually labeled for the presence of eight (neutral, happy, angry, sad, fear, surprise, disgust, contempt) facial expressions along with the intensity of valence and arousal.\n",
    "\n",
    "**Notebook Description**\\\n",
    "This notebook utilizes the AffectNet Dataset to create a model focused on the recognition of four emotions (happy, sad, angry, and neutral) "
   ]
  }
 ],
 "metadata": {
  "language_info": {
   "name": "python"
  },
  "orig_nbformat": 4
 },
 "nbformat": 4,
 "nbformat_minor": 2
}
