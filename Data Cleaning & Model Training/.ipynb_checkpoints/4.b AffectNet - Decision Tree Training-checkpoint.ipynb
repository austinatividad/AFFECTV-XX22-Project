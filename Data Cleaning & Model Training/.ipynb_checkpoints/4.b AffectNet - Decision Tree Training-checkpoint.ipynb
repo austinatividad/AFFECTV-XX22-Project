{
 "cells": [
  {
   "cell_type": "markdown",
   "id": "f0d2b9bf",
   "metadata": {},
   "source": [
    "# Libraries\n",
    "\n",
    "To create a decision tree model, we will use the following libraries:"
   ]
  },
  {
   "cell_type": "code",
   "execution_count": 1,
   "id": "cc9a6841",
   "metadata": {
    "id": "cc9a6841"
   },
   "outputs": [],
   "source": [
    "#ignore FutureWarning\n",
    "import warnings\n",
    "warnings.simplefilter(action='ignore', category=FutureWarning)\n",
    "warnings.simplefilter(action='ignore', category=UserWarning)\n",
    "\n",
    "from sklearn.tree import DecisionTreeClassifier\n",
    "import pandas as pd\n",
    "from sklearn.model_selection import cross_val_score\n",
    "from sklearn.model_selection import cross_val_predict\n",
    "from sklearn.model_selection import train_test_split\n",
    "from sklearn.metrics import confusion_matrix\n",
    "from sklearn.tree import export_graphviz\n",
    "from graphviz import Source\n",
    "\n",
    "from sklearn.metrics import accuracy_score\n",
    "from sklearn.metrics import precision_score\n",
    "from sklearn.metrics import recall_score\n",
    "from sklearn.metrics import f1_score\n",
    "\n",
    "import seaborn as sb\n",
    "import matplotlib.pyplot as plt"
   ]
  },
  {
   "cell_type": "markdown",
   "id": "8b216abb",
   "metadata": {},
   "source": [
    "# Importing test and train data\n",
    "\n",
    "From the revised oversampling notebook, we will import the test and train data. the train data has been oversampled to balance the quantity of each emotion."
   ]
  },
  {
   "cell_type": "code",
   "execution_count": 2,
   "id": "e82c7268",
   "metadata": {},
   "outputs": [],
   "source": [
    "#importing train and test split\n",
    "train_set = pd.read_csv('./outputs/train_set_ov2.csv')\n",
    "test_set = pd.read_csv('./outputs/test_set_ov2.csv')\n",
    "\n",
    "#Split into features and target; x = features, y = target\n",
    "X_train = train_set.iloc[:, 1:]\n",
    "y_train = train_set['label']\n",
    "\n",
    "X_test = test_set.iloc[:, 1:]\n",
    "y_test = test_set['label']\n",
    "\n",
    "#combining test and train set for cross validation\n",
    "x = pd.concat([X_train, X_test])\n",
    "y = pd.concat([y_train, y_test])"
   ]
  },
  {
   "cell_type": "markdown",
   "id": "4b7a1c1f",
   "metadata": {},
   "source": [
    "# Decision Tree Model Testing\n",
    "\n",
    "We will first test the model where max_depth = 10. "
   ]
  },
  {
   "cell_type": "code",
   "execution_count": 3,
   "id": "2442df7a",
   "metadata": {
    "id": "2442df7a"
   },
   "outputs": [],
   "source": [
    "#create a decision tree model\n",
    "tree_clf = DecisionTreeClassifier(max_depth = 3, random_state=42, criterion =\"entropy\")\n"
   ]
  },
  {
   "cell_type": "code",
   "execution_count": 4,
   "id": "a513d5b9",
   "metadata": {
    "colab": {
     "base_uri": "https://localhost:8080/",
     "height": 74
    },
    "id": "a513d5b9",
    "outputId": "b76b7d65-1159-4aed-f981-dc47035866ee"
   },
   "outputs": [
    {
     "data": {
      "text/html": [
       "<style>#sk-container-id-1 {color: black;background-color: white;}#sk-container-id-1 pre{padding: 0;}#sk-container-id-1 div.sk-toggleable {background-color: white;}#sk-container-id-1 label.sk-toggleable__label {cursor: pointer;display: block;width: 100%;margin-bottom: 0;padding: 0.3em;box-sizing: border-box;text-align: center;}#sk-container-id-1 label.sk-toggleable__label-arrow:before {content: \"▸\";float: left;margin-right: 0.25em;color: #696969;}#sk-container-id-1 label.sk-toggleable__label-arrow:hover:before {color: black;}#sk-container-id-1 div.sk-estimator:hover label.sk-toggleable__label-arrow:before {color: black;}#sk-container-id-1 div.sk-toggleable__content {max-height: 0;max-width: 0;overflow: hidden;text-align: left;background-color: #f0f8ff;}#sk-container-id-1 div.sk-toggleable__content pre {margin: 0.2em;color: black;border-radius: 0.25em;background-color: #f0f8ff;}#sk-container-id-1 input.sk-toggleable__control:checked~div.sk-toggleable__content {max-height: 200px;max-width: 100%;overflow: auto;}#sk-container-id-1 input.sk-toggleable__control:checked~label.sk-toggleable__label-arrow:before {content: \"▾\";}#sk-container-id-1 div.sk-estimator input.sk-toggleable__control:checked~label.sk-toggleable__label {background-color: #d4ebff;}#sk-container-id-1 div.sk-label input.sk-toggleable__control:checked~label.sk-toggleable__label {background-color: #d4ebff;}#sk-container-id-1 input.sk-hidden--visually {border: 0;clip: rect(1px 1px 1px 1px);clip: rect(1px, 1px, 1px, 1px);height: 1px;margin: -1px;overflow: hidden;padding: 0;position: absolute;width: 1px;}#sk-container-id-1 div.sk-estimator {font-family: monospace;background-color: #f0f8ff;border: 1px dotted black;border-radius: 0.25em;box-sizing: border-box;margin-bottom: 0.5em;}#sk-container-id-1 div.sk-estimator:hover {background-color: #d4ebff;}#sk-container-id-1 div.sk-parallel-item::after {content: \"\";width: 100%;border-bottom: 1px solid gray;flex-grow: 1;}#sk-container-id-1 div.sk-label:hover label.sk-toggleable__label {background-color: #d4ebff;}#sk-container-id-1 div.sk-serial::before {content: \"\";position: absolute;border-left: 1px solid gray;box-sizing: border-box;top: 0;bottom: 0;left: 50%;z-index: 0;}#sk-container-id-1 div.sk-serial {display: flex;flex-direction: column;align-items: center;background-color: white;padding-right: 0.2em;padding-left: 0.2em;position: relative;}#sk-container-id-1 div.sk-item {position: relative;z-index: 1;}#sk-container-id-1 div.sk-parallel {display: flex;align-items: stretch;justify-content: center;background-color: white;position: relative;}#sk-container-id-1 div.sk-item::before, #sk-container-id-1 div.sk-parallel-item::before {content: \"\";position: absolute;border-left: 1px solid gray;box-sizing: border-box;top: 0;bottom: 0;left: 50%;z-index: -1;}#sk-container-id-1 div.sk-parallel-item {display: flex;flex-direction: column;z-index: 1;position: relative;background-color: white;}#sk-container-id-1 div.sk-parallel-item:first-child::after {align-self: flex-end;width: 50%;}#sk-container-id-1 div.sk-parallel-item:last-child::after {align-self: flex-start;width: 50%;}#sk-container-id-1 div.sk-parallel-item:only-child::after {width: 0;}#sk-container-id-1 div.sk-dashed-wrapped {border: 1px dashed gray;margin: 0 0.4em 0.5em 0.4em;box-sizing: border-box;padding-bottom: 0.4em;background-color: white;}#sk-container-id-1 div.sk-label label {font-family: monospace;font-weight: bold;display: inline-block;line-height: 1.2em;}#sk-container-id-1 div.sk-label-container {text-align: center;}#sk-container-id-1 div.sk-container {/* jupyter's `normalize.less` sets `[hidden] { display: none; }` but bootstrap.min.css set `[hidden] { display: none !important; }` so we also need the `!important` here to be able to override the default hidden behavior on the sphinx rendered scikit-learn.org. See: https://github.com/scikit-learn/scikit-learn/issues/21755 */display: inline-block !important;position: relative;}#sk-container-id-1 div.sk-text-repr-fallback {display: none;}</style><div id=\"sk-container-id-1\" class=\"sk-top-container\"><div class=\"sk-text-repr-fallback\"><pre>DecisionTreeClassifier(criterion=&#x27;entropy&#x27;, max_depth=3, random_state=42)</pre><b>In a Jupyter environment, please rerun this cell to show the HTML representation or trust the notebook. <br />On GitHub, the HTML representation is unable to render, please try loading this page with nbviewer.org.</b></div><div class=\"sk-container\" hidden><div class=\"sk-item\"><div class=\"sk-estimator sk-toggleable\"><input class=\"sk-toggleable__control sk-hidden--visually\" id=\"sk-estimator-id-1\" type=\"checkbox\" checked><label for=\"sk-estimator-id-1\" class=\"sk-toggleable__label sk-toggleable__label-arrow\">DecisionTreeClassifier</label><div class=\"sk-toggleable__content\"><pre>DecisionTreeClassifier(criterion=&#x27;entropy&#x27;, max_depth=3, random_state=42)</pre></div></div></div></div></div>"
      ],
      "text/plain": [
       "DecisionTreeClassifier(criterion='entropy', max_depth=3, random_state=42)"
      ]
     },
     "execution_count": 4,
     "metadata": {},
     "output_type": "execute_result"
    }
   ],
   "source": [
    "#decision tree training\n",
    "tree_clf.fit(X_train,y_train)"
   ]
  },
  {
   "cell_type": "code",
   "execution_count": 5,
   "id": "ab54d5f2",
   "metadata": {
    "id": "ab54d5f2"
   },
   "outputs": [],
   "source": [
    "#creates a visualization of the decision tree\n",
    "feature_names = X_train.columns\n",
    "labels = tree_clf.classes_\n",
    "export_graphviz(\n",
    "    tree_clf,\n",
    "    out_file=\"FER_ov2.dot\",\n",
    "    feature_names = feature_names,\n",
    "    class_names=labels,\n",
    "    rounded = True,\n",
    "    filled=True,\n",
    "    special_characters=True\n",
    ")"
   ]
  },
  {
   "cell_type": "code",
   "execution_count": 6,
   "id": "eb652503",
   "metadata": {
    "colab": {
     "base_uri": "https://localhost:8080/",
     "height": 1000
    },
    "id": "eb652503",
    "outputId": "914b833f-e3af-4f7b-83d6-55858c57e26b"
   },
   "outputs": [
    {
     "data": {
      "image/svg+xml": [
       "<?xml version=\"1.0\" encoding=\"UTF-8\" standalone=\"no\"?>\n",
       "<!DOCTYPE svg PUBLIC \"-//W3C//DTD SVG 1.1//EN\"\n",
       " \"http://www.w3.org/Graphics/SVG/1.1/DTD/svg11.dtd\">\n",
       "<!-- Generated by graphviz version 2.50.0 (0)\n",
       " -->\n",
       "<!-- Title: Tree Pages: 1 -->\n",
       "<svg width=\"1528pt\" height=\"433pt\"\n",
       " viewBox=\"0.00 0.00 1527.50 433.00\" xmlns=\"http://www.w3.org/2000/svg\" xmlns:xlink=\"http://www.w3.org/1999/xlink\">\n",
       "<g id=\"graph0\" class=\"graph\" transform=\"scale(1 1) rotate(0) translate(4 429)\">\n",
       "<title>Tree</title>\n",
       "<polygon fill=\"white\" stroke=\"transparent\" points=\"-4,4 -4,-429 1523.5,-429 1523.5,4 -4,4\"/>\n",
       "<!-- 0 -->\n",
       "<g id=\"node1\" class=\"node\">\n",
       "<title>0</title>\n",
       "<path fill=\"#fffdff\" stroke=\"black\" d=\"M848,-425C848,-425 657,-425 657,-425 651,-425 645,-419 645,-413 645,-413 645,-354 645,-354 645,-348 651,-342 657,-342 657,-342 848,-342 848,-342 854,-342 860,-348 860,-354 860,-354 860,-413 860,-413 860,-419 854,-425 848,-425\"/>\n",
       "<text text-anchor=\"start\" x=\"698\" y=\"-409.8\" font-family=\"Helvetica,sans-Serif\" font-size=\"14.00\">lm_190_y ≤ 0.443</text>\n",
       "<text text-anchor=\"start\" x=\"705\" y=\"-394.8\" font-family=\"Helvetica,sans-Serif\" font-size=\"14.00\">entropy = 1.976</text>\n",
       "<text text-anchor=\"start\" x=\"700\" y=\"-379.8\" font-family=\"Helvetica,sans-Serif\" font-size=\"14.00\">samples = 10861</text>\n",
       "<text text-anchor=\"start\" x=\"653\" y=\"-364.8\" font-family=\"Helvetica,sans-Serif\" font-size=\"14.00\">value = [2876, 1907, 2991, 3087]</text>\n",
       "<text text-anchor=\"start\" x=\"718\" y=\"-349.8\" font-family=\"Helvetica,sans-Serif\" font-size=\"14.00\">class = sad</text>\n",
       "</g>\n",
       "<!-- 1 -->\n",
       "<g id=\"node2\" class=\"node\">\n",
       "<title>1</title>\n",
       "<path fill=\"#fefafe\" stroke=\"black\" d=\"M656.5,-306C656.5,-306 480.5,-306 480.5,-306 474.5,-306 468.5,-300 468.5,-294 468.5,-294 468.5,-235 468.5,-235 468.5,-229 474.5,-223 480.5,-223 480.5,-223 656.5,-223 656.5,-223 662.5,-223 668.5,-229 668.5,-235 668.5,-235 668.5,-294 668.5,-294 668.5,-300 662.5,-306 656.5,-306\"/>\n",
       "<text text-anchor=\"start\" x=\"514\" y=\"-290.8\" font-family=\"Helvetica,sans-Serif\" font-size=\"14.00\">lm_108_y ≤ 0.326</text>\n",
       "<text text-anchor=\"start\" x=\"521\" y=\"-275.8\" font-family=\"Helvetica,sans-Serif\" font-size=\"14.00\">entropy = 1.618</text>\n",
       "<text text-anchor=\"start\" x=\"520\" y=\"-260.8\" font-family=\"Helvetica,sans-Serif\" font-size=\"14.00\">samples = 5811</text>\n",
       "<text text-anchor=\"start\" x=\"476.5\" y=\"-245.8\" font-family=\"Helvetica,sans-Serif\" font-size=\"14.00\">value = [2344, 184, 851, 2432]</text>\n",
       "<text text-anchor=\"start\" x=\"534\" y=\"-230.8\" font-family=\"Helvetica,sans-Serif\" font-size=\"14.00\">class = sad</text>\n",
       "</g>\n",
       "<!-- 0&#45;&gt;1 -->\n",
       "<g id=\"edge1\" class=\"edge\">\n",
       "<title>0&#45;&gt;1</title>\n",
       "<path fill=\"none\" stroke=\"black\" d=\"M688.66,-341.91C673.25,-332.11 656.67,-321.56 640.89,-311.53\"/>\n",
       "<polygon fill=\"black\" stroke=\"black\" points=\"642.54,-308.43 632.23,-306.02 638.79,-314.34 642.54,-308.43\"/>\n",
       "<text text-anchor=\"middle\" x=\"637.66\" y=\"-326.72\" font-family=\"Helvetica,sans-Serif\" font-size=\"14.00\">True</text>\n",
       "</g>\n",
       "<!-- 8 -->\n",
       "<g id=\"node9\" class=\"node\">\n",
       "<title>8</title>\n",
       "<path fill=\"#e6f3fc\" stroke=\"black\" d=\"M1030.5,-306C1030.5,-306 854.5,-306 854.5,-306 848.5,-306 842.5,-300 842.5,-294 842.5,-294 842.5,-235 842.5,-235 842.5,-229 848.5,-223 854.5,-223 854.5,-223 1030.5,-223 1030.5,-223 1036.5,-223 1042.5,-229 1042.5,-235 1042.5,-235 1042.5,-294 1042.5,-294 1042.5,-300 1036.5,-306 1030.5,-306\"/>\n",
       "<text text-anchor=\"start\" x=\"892\" y=\"-290.8\" font-family=\"Helvetica,sans-Serif\" font-size=\"14.00\">lm_192_x ≤ 0.41</text>\n",
       "<text text-anchor=\"start\" x=\"895\" y=\"-275.8\" font-family=\"Helvetica,sans-Serif\" font-size=\"14.00\">entropy = 1.778</text>\n",
       "<text text-anchor=\"start\" x=\"894\" y=\"-260.8\" font-family=\"Helvetica,sans-Serif\" font-size=\"14.00\">samples = 5050</text>\n",
       "<text text-anchor=\"start\" x=\"850.5\" y=\"-245.8\" font-family=\"Helvetica,sans-Serif\" font-size=\"14.00\">value = [532, 1723, 2140, 655]</text>\n",
       "<text text-anchor=\"start\" x=\"898.5\" y=\"-230.8\" font-family=\"Helvetica,sans-Serif\" font-size=\"14.00\">class = neutral</text>\n",
       "</g>\n",
       "<!-- 0&#45;&gt;8 -->\n",
       "<g id=\"edge8\" class=\"edge\">\n",
       "<title>0&#45;&gt;8</title>\n",
       "<path fill=\"none\" stroke=\"black\" d=\"M818.42,-341.91C834.34,-332.11 851.46,-321.56 867.75,-311.53\"/>\n",
       "<polygon fill=\"black\" stroke=\"black\" points=\"870.02,-314.24 876.7,-306.02 866.35,-308.28 870.02,-314.24\"/>\n",
       "<text text-anchor=\"middle\" x=\"870.91\" y=\"-326.64\" font-family=\"Helvetica,sans-Serif\" font-size=\"14.00\">False</text>\n",
       "</g>\n",
       "<!-- 2 -->\n",
       "<g id=\"node3\" class=\"node\">\n",
       "<title>2</title>\n",
       "<path fill=\"#efb2f5\" stroke=\"black\" d=\"M364.5,-187C364.5,-187 204.5,-187 204.5,-187 198.5,-187 192.5,-181 192.5,-175 192.5,-175 192.5,-116 192.5,-116 192.5,-110 198.5,-104 204.5,-104 204.5,-104 364.5,-104 364.5,-104 370.5,-104 376.5,-110 376.5,-116 376.5,-116 376.5,-175 376.5,-175 376.5,-181 370.5,-187 364.5,-187\"/>\n",
       "<text text-anchor=\"start\" x=\"234\" y=\"-171.8\" font-family=\"Helvetica,sans-Serif\" font-size=\"14.00\">lm_15_y ≤ 0.814</text>\n",
       "<text text-anchor=\"start\" x=\"237\" y=\"-156.8\" font-family=\"Helvetica,sans-Serif\" font-size=\"14.00\">entropy = 1.585</text>\n",
       "<text text-anchor=\"start\" x=\"236\" y=\"-141.8\" font-family=\"Helvetica,sans-Serif\" font-size=\"14.00\">samples = 2151</text>\n",
       "<text text-anchor=\"start\" x=\"200.5\" y=\"-126.8\" font-family=\"Helvetica,sans-Serif\" font-size=\"14.00\">value = [536, 73, 377, 1165]</text>\n",
       "<text text-anchor=\"start\" x=\"250\" y=\"-111.8\" font-family=\"Helvetica,sans-Serif\" font-size=\"14.00\">class = sad</text>\n",
       "</g>\n",
       "<!-- 1&#45;&gt;2 -->\n",
       "<g id=\"edge2\" class=\"edge\">\n",
       "<title>1&#45;&gt;2</title>\n",
       "<path fill=\"none\" stroke=\"black\" d=\"M469.97,-222.91C442.88,-211.75 413.46,-199.63 386.2,-188.4\"/>\n",
       "<polygon fill=\"black\" stroke=\"black\" points=\"387.24,-185.04 376.66,-184.47 384.57,-191.51 387.24,-185.04\"/>\n",
       "</g>\n",
       "<!-- 5 -->\n",
       "<g id=\"node6\" class=\"node\">\n",
       "<title>5</title>\n",
       "<path fill=\"#f9e3d2\" stroke=\"black\" d=\"M655.5,-187C655.5,-187 481.5,-187 481.5,-187 475.5,-187 469.5,-181 469.5,-175 469.5,-175 469.5,-116 469.5,-116 469.5,-110 475.5,-104 481.5,-104 481.5,-104 655.5,-104 655.5,-104 661.5,-104 667.5,-110 667.5,-116 667.5,-116 667.5,-175 667.5,-175 667.5,-181 661.5,-187 655.5,-187\"/>\n",
       "<text text-anchor=\"start\" x=\"514\" y=\"-171.8\" font-family=\"Helvetica,sans-Serif\" font-size=\"14.00\">lm_174_y ≤ 0.417</text>\n",
       "<text text-anchor=\"start\" x=\"521\" y=\"-156.8\" font-family=\"Helvetica,sans-Serif\" font-size=\"14.00\">entropy = 1.567</text>\n",
       "<text text-anchor=\"start\" x=\"520\" y=\"-141.8\" font-family=\"Helvetica,sans-Serif\" font-size=\"14.00\">samples = 3660</text>\n",
       "<text text-anchor=\"start\" x=\"477.5\" y=\"-126.8\" font-family=\"Helvetica,sans-Serif\" font-size=\"14.00\">value = [1808, 111, 474, 1267]</text>\n",
       "<text text-anchor=\"start\" x=\"527.5\" y=\"-111.8\" font-family=\"Helvetica,sans-Serif\" font-size=\"14.00\">class = anger</text>\n",
       "</g>\n",
       "<!-- 1&#45;&gt;5 -->\n",
       "<g id=\"edge5\" class=\"edge\">\n",
       "<title>1&#45;&gt;5</title>\n",
       "<path fill=\"none\" stroke=\"black\" d=\"M568.5,-222.91C568.5,-214.65 568.5,-205.86 568.5,-197.3\"/>\n",
       "<polygon fill=\"black\" stroke=\"black\" points=\"572,-197.02 568.5,-187.02 565,-197.02 572,-197.02\"/>\n",
       "</g>\n",
       "<!-- 3 -->\n",
       "<g id=\"node4\" class=\"node\">\n",
       "<title>3</title>\n",
       "<path fill=\"#eca3f3\" stroke=\"black\" d=\"M173,-68C173,-68 12,-68 12,-68 6,-68 0,-62 0,-56 0,-56 0,-12 0,-12 0,-6 6,0 12,0 12,0 173,0 173,0 179,0 185,-6 185,-12 185,-12 185,-56 185,-56 185,-62 179,-68 173,-68\"/>\n",
       "<text text-anchor=\"start\" x=\"45\" y=\"-52.8\" font-family=\"Helvetica,sans-Serif\" font-size=\"14.00\">entropy = 1.553</text>\n",
       "<text text-anchor=\"start\" x=\"44\" y=\"-37.8\" font-family=\"Helvetica,sans-Serif\" font-size=\"14.00\">samples = 1843</text>\n",
       "<text text-anchor=\"start\" x=\"8\" y=\"-22.8\" font-family=\"Helvetica,sans-Serif\" font-size=\"14.00\">value = [378, 67, 341, 1057]</text>\n",
       "<text text-anchor=\"start\" x=\"58\" y=\"-7.8\" font-family=\"Helvetica,sans-Serif\" font-size=\"14.00\">class = sad</text>\n",
       "</g>\n",
       "<!-- 2&#45;&gt;3 -->\n",
       "<g id=\"edge3\" class=\"edge\">\n",
       "<title>2&#45;&gt;3</title>\n",
       "<path fill=\"none\" stroke=\"black\" d=\"M213.28,-103.88C195.65,-93.83 176.82,-83.09 159.4,-73.16\"/>\n",
       "<polygon fill=\"black\" stroke=\"black\" points=\"160.86,-69.96 150.44,-68.04 157.39,-76.04 160.86,-69.96\"/>\n",
       "</g>\n",
       "<!-- 4 -->\n",
       "<g id=\"node5\" class=\"node\">\n",
       "<title>4</title>\n",
       "<path fill=\"#f8e0ce\" stroke=\"black\" d=\"M353.5,-68C353.5,-68 215.5,-68 215.5,-68 209.5,-68 203.5,-62 203.5,-56 203.5,-56 203.5,-12 203.5,-12 203.5,-6 209.5,0 215.5,0 215.5,0 353.5,0 353.5,0 359.5,0 365.5,-6 365.5,-12 365.5,-12 365.5,-56 365.5,-56 365.5,-62 359.5,-68 353.5,-68\"/>\n",
       "<text text-anchor=\"start\" x=\"237\" y=\"-52.8\" font-family=\"Helvetica,sans-Serif\" font-size=\"14.00\">entropy = 1.497</text>\n",
       "<text text-anchor=\"start\" x=\"239.5\" y=\"-37.8\" font-family=\"Helvetica,sans-Serif\" font-size=\"14.00\">samples = 308</text>\n",
       "<text text-anchor=\"start\" x=\"211.5\" y=\"-22.8\" font-family=\"Helvetica,sans-Serif\" font-size=\"14.00\">value = [158, 6, 36, 108]</text>\n",
       "<text text-anchor=\"start\" x=\"243.5\" y=\"-7.8\" font-family=\"Helvetica,sans-Serif\" font-size=\"14.00\">class = anger</text>\n",
       "</g>\n",
       "<!-- 2&#45;&gt;4 -->\n",
       "<g id=\"edge4\" class=\"edge\">\n",
       "<title>2&#45;&gt;4</title>\n",
       "<path fill=\"none\" stroke=\"black\" d=\"M284.5,-103.73C284.5,-95.52 284.5,-86.86 284.5,-78.56\"/>\n",
       "<polygon fill=\"black\" stroke=\"black\" points=\"288,-78.3 284.5,-68.3 281,-78.3 288,-78.3\"/>\n",
       "</g>\n",
       "<!-- 6 -->\n",
       "<g id=\"node7\" class=\"node\">\n",
       "<title>6</title>\n",
       "<path fill=\"#efb387\" stroke=\"black\" d=\"M541.5,-68C541.5,-68 395.5,-68 395.5,-68 389.5,-68 383.5,-62 383.5,-56 383.5,-56 383.5,-12 383.5,-12 383.5,-6 389.5,0 395.5,0 395.5,0 541.5,0 541.5,0 547.5,0 553.5,-6 553.5,-12 553.5,-12 553.5,-56 553.5,-56 553.5,-62 547.5,-68 541.5,-68\"/>\n",
       "<text text-anchor=\"start\" x=\"421\" y=\"-52.8\" font-family=\"Helvetica,sans-Serif\" font-size=\"14.00\">entropy = 1.261</text>\n",
       "<text text-anchor=\"start\" x=\"420\" y=\"-37.8\" font-family=\"Helvetica,sans-Serif\" font-size=\"14.00\">samples = 1159</text>\n",
       "<text text-anchor=\"start\" x=\"391.5\" y=\"-22.8\" font-family=\"Helvetica,sans-Serif\" font-size=\"14.00\">value = [798, 30, 87, 244]</text>\n",
       "<text text-anchor=\"start\" x=\"427.5\" y=\"-7.8\" font-family=\"Helvetica,sans-Serif\" font-size=\"14.00\">class = anger</text>\n",
       "</g>\n",
       "<!-- 5&#45;&gt;6 -->\n",
       "<g id=\"edge6\" class=\"edge\">\n",
       "<title>5&#45;&gt;6</title>\n",
       "<path fill=\"none\" stroke=\"black\" d=\"M531.26,-103.73C522.93,-94.61 514.1,-84.93 505.77,-75.81\"/>\n",
       "<polygon fill=\"black\" stroke=\"black\" points=\"508.24,-73.32 498.91,-68.3 503.07,-78.04 508.24,-73.32\"/>\n",
       "</g>\n",
       "<!-- 7 -->\n",
       "<g id=\"node8\" class=\"node\">\n",
       "<title>7</title>\n",
       "<path fill=\"#fffdff\" stroke=\"black\" d=\"M751.5,-68C751.5,-68 583.5,-68 583.5,-68 577.5,-68 571.5,-62 571.5,-56 571.5,-56 571.5,-12 571.5,-12 571.5,-6 577.5,0 583.5,0 583.5,0 751.5,0 751.5,0 757.5,0 763.5,-6 763.5,-12 763.5,-12 763.5,-56 763.5,-56 763.5,-62 757.5,-68 751.5,-68\"/>\n",
       "<text text-anchor=\"start\" x=\"620\" y=\"-52.8\" font-family=\"Helvetica,sans-Serif\" font-size=\"14.00\">entropy = 1.633</text>\n",
       "<text text-anchor=\"start\" x=\"619\" y=\"-37.8\" font-family=\"Helvetica,sans-Serif\" font-size=\"14.00\">samples = 2501</text>\n",
       "<text text-anchor=\"start\" x=\"579.5\" y=\"-22.8\" font-family=\"Helvetica,sans-Serif\" font-size=\"14.00\">value = [1010, 81, 387, 1023]</text>\n",
       "<text text-anchor=\"start\" x=\"633\" y=\"-7.8\" font-family=\"Helvetica,sans-Serif\" font-size=\"14.00\">class = sad</text>\n",
       "</g>\n",
       "<!-- 5&#45;&gt;7 -->\n",
       "<g id=\"edge7\" class=\"edge\">\n",
       "<title>5&#45;&gt;7</title>\n",
       "<path fill=\"none\" stroke=\"black\" d=\"M605.36,-103.73C613.61,-94.61 622.36,-84.93 630.61,-75.81\"/>\n",
       "<polygon fill=\"black\" stroke=\"black\" points=\"633.28,-78.06 637.39,-68.3 628.09,-73.37 633.28,-78.06\"/>\n",
       "</g>\n",
       "<!-- 9 -->\n",
       "<g id=\"node10\" class=\"node\">\n",
       "<title>9</title>\n",
       "<path fill=\"#5de851\" stroke=\"black\" d=\"M1015.5,-187C1015.5,-187 869.5,-187 869.5,-187 863.5,-187 857.5,-181 857.5,-175 857.5,-175 857.5,-116 857.5,-116 857.5,-110 863.5,-104 869.5,-104 869.5,-104 1015.5,-104 1015.5,-104 1021.5,-104 1027.5,-110 1027.5,-116 1027.5,-116 1027.5,-175 1027.5,-175 1027.5,-181 1021.5,-187 1015.5,-187\"/>\n",
       "<text text-anchor=\"start\" x=\"888\" y=\"-171.8\" font-family=\"Helvetica,sans-Serif\" font-size=\"14.00\">lm_416_x ≤ 0.587</text>\n",
       "<text text-anchor=\"start\" x=\"895\" y=\"-156.8\" font-family=\"Helvetica,sans-Serif\" font-size=\"14.00\">entropy = 0.672</text>\n",
       "<text text-anchor=\"start\" x=\"894\" y=\"-141.8\" font-family=\"Helvetica,sans-Serif\" font-size=\"14.00\">samples = 1493</text>\n",
       "<text text-anchor=\"start\" x=\"865.5\" y=\"-126.8\" font-family=\"Helvetica,sans-Serif\" font-size=\"14.00\">value = [34, 1325, 89, 45]</text>\n",
       "<text text-anchor=\"start\" x=\"900.5\" y=\"-111.8\" font-family=\"Helvetica,sans-Serif\" font-size=\"14.00\">class = happy</text>\n",
       "</g>\n",
       "<!-- 8&#45;&gt;9 -->\n",
       "<g id=\"edge9\" class=\"edge\">\n",
       "<title>8&#45;&gt;9</title>\n",
       "<path fill=\"none\" stroke=\"black\" d=\"M942.5,-222.91C942.5,-214.65 942.5,-205.86 942.5,-197.3\"/>\n",
       "<polygon fill=\"black\" stroke=\"black\" points=\"946,-197.02 942.5,-187.02 939,-197.02 946,-197.02\"/>\n",
       "</g>\n",
       "<!-- 12 -->\n",
       "<g id=\"node13\" class=\"node\">\n",
       "<title>12</title>\n",
       "<path fill=\"#9ecff2\" stroke=\"black\" d=\"M1305.5,-187C1305.5,-187 1137.5,-187 1137.5,-187 1131.5,-187 1125.5,-181 1125.5,-175 1125.5,-175 1125.5,-116 1125.5,-116 1125.5,-110 1131.5,-104 1137.5,-104 1137.5,-104 1305.5,-104 1305.5,-104 1311.5,-104 1317.5,-110 1317.5,-116 1317.5,-116 1317.5,-175 1317.5,-175 1317.5,-181 1311.5,-187 1305.5,-187\"/>\n",
       "<text text-anchor=\"start\" x=\"1167\" y=\"-171.8\" font-family=\"Helvetica,sans-Serif\" font-size=\"14.00\">lm_416_x ≤ 0.578</text>\n",
       "<text text-anchor=\"start\" x=\"1174\" y=\"-156.8\" font-family=\"Helvetica,sans-Serif\" font-size=\"14.00\">entropy = 1.645</text>\n",
       "<text text-anchor=\"start\" x=\"1173\" y=\"-141.8\" font-family=\"Helvetica,sans-Serif\" font-size=\"14.00\">samples = 3557</text>\n",
       "<text text-anchor=\"start\" x=\"1133.5\" y=\"-126.8\" font-family=\"Helvetica,sans-Serif\" font-size=\"14.00\">value = [498, 398, 2051, 610]</text>\n",
       "<text text-anchor=\"start\" x=\"1177.5\" y=\"-111.8\" font-family=\"Helvetica,sans-Serif\" font-size=\"14.00\">class = neutral</text>\n",
       "</g>\n",
       "<!-- 8&#45;&gt;12 -->\n",
       "<g id=\"edge12\" class=\"edge\">\n",
       "<title>8&#45;&gt;12</title>\n",
       "<path fill=\"none\" stroke=\"black\" d=\"M1039.3,-222.91C1064,-212.55 1090.68,-201.36 1115.8,-190.83\"/>\n",
       "<polygon fill=\"black\" stroke=\"black\" points=\"1117.48,-193.92 1125.35,-186.82 1114.77,-187.46 1117.48,-193.92\"/>\n",
       "</g>\n",
       "<!-- 10 -->\n",
       "<g id=\"node11\" class=\"node\">\n",
       "<title>10</title>\n",
       "<path fill=\"#bdf6b8\" stroke=\"black\" d=\"M931.5,-68C931.5,-68 793.5,-68 793.5,-68 787.5,-68 781.5,-62 781.5,-56 781.5,-56 781.5,-12 781.5,-12 781.5,-6 787.5,0 793.5,0 793.5,0 931.5,0 931.5,0 937.5,0 943.5,-6 943.5,-12 943.5,-12 943.5,-56 943.5,-56 943.5,-62 937.5,-68 931.5,-68\"/>\n",
       "<text text-anchor=\"start\" x=\"815\" y=\"-52.8\" font-family=\"Helvetica,sans-Serif\" font-size=\"14.00\">entropy = 1.668</text>\n",
       "<text text-anchor=\"start\" x=\"817.5\" y=\"-37.8\" font-family=\"Helvetica,sans-Serif\" font-size=\"14.00\">samples = 325</text>\n",
       "<text text-anchor=\"start\" x=\"789.5\" y=\"-22.8\" font-family=\"Helvetica,sans-Serif\" font-size=\"14.00\">value = [31, 172, 86, 36]</text>\n",
       "<text text-anchor=\"start\" x=\"820.5\" y=\"-7.8\" font-family=\"Helvetica,sans-Serif\" font-size=\"14.00\">class = happy</text>\n",
       "</g>\n",
       "<!-- 9&#45;&gt;10 -->\n",
       "<g id=\"edge10\" class=\"edge\">\n",
       "<title>9&#45;&gt;10</title>\n",
       "<path fill=\"none\" stroke=\"black\" d=\"M912.71,-103.73C906.25,-94.88 899.4,-85.51 892.91,-76.63\"/>\n",
       "<polygon fill=\"black\" stroke=\"black\" points=\"895.55,-74.31 886.83,-68.3 889.9,-78.44 895.55,-74.31\"/>\n",
       "</g>\n",
       "<!-- 11 -->\n",
       "<g id=\"node12\" class=\"node\">\n",
       "<title>11</title>\n",
       "<path fill=\"#49e53c\" stroke=\"black\" d=\"M1095.5,-68C1095.5,-68 973.5,-68 973.5,-68 967.5,-68 961.5,-62 961.5,-56 961.5,-56 961.5,-12 961.5,-12 961.5,-6 967.5,0 973.5,0 973.5,0 1095.5,0 1095.5,0 1101.5,0 1107.5,-6 1107.5,-12 1107.5,-12 1107.5,-56 1107.5,-56 1107.5,-62 1101.5,-68 1095.5,-68\"/>\n",
       "<text text-anchor=\"start\" x=\"987.5\" y=\"-52.8\" font-family=\"Helvetica,sans-Serif\" font-size=\"14.00\">entropy = 0.117</text>\n",
       "<text text-anchor=\"start\" x=\"986\" y=\"-37.8\" font-family=\"Helvetica,sans-Serif\" font-size=\"14.00\">samples = 1168</text>\n",
       "<text text-anchor=\"start\" x=\"969.5\" y=\"-22.8\" font-family=\"Helvetica,sans-Serif\" font-size=\"14.00\">value = [3, 1153, 3, 9]</text>\n",
       "<text text-anchor=\"start\" x=\"992.5\" y=\"-7.8\" font-family=\"Helvetica,sans-Serif\" font-size=\"14.00\">class = happy</text>\n",
       "</g>\n",
       "<!-- 9&#45;&gt;11 -->\n",
       "<g id=\"edge11\" class=\"edge\">\n",
       "<title>9&#45;&gt;11</title>\n",
       "<path fill=\"none\" stroke=\"black\" d=\"M976.76,-103.73C984.34,-94.7 992.39,-85.12 999.98,-76.08\"/>\n",
       "<polygon fill=\"black\" stroke=\"black\" points=\"1002.77,-78.21 1006.52,-68.3 997.41,-73.7 1002.77,-78.21\"/>\n",
       "</g>\n",
       "<!-- 13 -->\n",
       "<g id=\"node14\" class=\"node\">\n",
       "<title>13</title>\n",
       "<path fill=\"#92c9f1\" stroke=\"black\" d=\"M1305.5,-68C1305.5,-68 1137.5,-68 1137.5,-68 1131.5,-68 1125.5,-62 1125.5,-56 1125.5,-56 1125.5,-12 1125.5,-12 1125.5,-6 1131.5,0 1137.5,0 1137.5,0 1305.5,0 1305.5,0 1311.5,0 1317.5,-6 1317.5,-12 1317.5,-12 1317.5,-56 1317.5,-56 1317.5,-62 1311.5,-68 1305.5,-68\"/>\n",
       "<text text-anchor=\"start\" x=\"1177.5\" y=\"-52.8\" font-family=\"Helvetica,sans-Serif\" font-size=\"14.00\">entropy = 1.48</text>\n",
       "<text text-anchor=\"start\" x=\"1173\" y=\"-37.8\" font-family=\"Helvetica,sans-Serif\" font-size=\"14.00\">samples = 2711</text>\n",
       "<text text-anchor=\"start\" x=\"1133.5\" y=\"-22.8\" font-family=\"Helvetica,sans-Serif\" font-size=\"14.00\">value = [382, 136, 1707, 486]</text>\n",
       "<text text-anchor=\"start\" x=\"1177.5\" y=\"-7.8\" font-family=\"Helvetica,sans-Serif\" font-size=\"14.00\">class = neutral</text>\n",
       "</g>\n",
       "<!-- 12&#45;&gt;13 -->\n",
       "<g id=\"edge13\" class=\"edge\">\n",
       "<title>12&#45;&gt;13</title>\n",
       "<path fill=\"none\" stroke=\"black\" d=\"M1221.5,-103.73C1221.5,-95.52 1221.5,-86.86 1221.5,-78.56\"/>\n",
       "<polygon fill=\"black\" stroke=\"black\" points=\"1225,-78.3 1221.5,-68.3 1218,-78.3 1225,-78.3\"/>\n",
       "</g>\n",
       "<!-- 14 -->\n",
       "<g id=\"node15\" class=\"node\">\n",
       "<title>14</title>\n",
       "<path fill=\"#e3f1fb\" stroke=\"black\" d=\"M1507.5,-68C1507.5,-68 1347.5,-68 1347.5,-68 1341.5,-68 1335.5,-62 1335.5,-56 1335.5,-56 1335.5,-12 1335.5,-12 1335.5,-6 1341.5,0 1347.5,0 1347.5,0 1507.5,0 1507.5,0 1513.5,0 1519.5,-6 1519.5,-12 1519.5,-12 1519.5,-56 1519.5,-56 1519.5,-62 1513.5,-68 1507.5,-68\"/>\n",
       "<text text-anchor=\"start\" x=\"1380\" y=\"-52.8\" font-family=\"Helvetica,sans-Serif\" font-size=\"14.00\">entropy = 1.851</text>\n",
       "<text text-anchor=\"start\" x=\"1382.5\" y=\"-37.8\" font-family=\"Helvetica,sans-Serif\" font-size=\"14.00\">samples = 846</text>\n",
       "<text text-anchor=\"start\" x=\"1343.5\" y=\"-22.8\" font-family=\"Helvetica,sans-Serif\" font-size=\"14.00\">value = [116, 262, 344, 124]</text>\n",
       "<text text-anchor=\"start\" x=\"1383.5\" y=\"-7.8\" font-family=\"Helvetica,sans-Serif\" font-size=\"14.00\">class = neutral</text>\n",
       "</g>\n",
       "<!-- 12&#45;&gt;14 -->\n",
       "<g id=\"edge14\" class=\"edge\">\n",
       "<title>12&#45;&gt;14</title>\n",
       "<path fill=\"none\" stroke=\"black\" d=\"M1297.91,-103.88C1317.09,-93.69 1337.59,-82.79 1356.49,-72.75\"/>\n",
       "<polygon fill=\"black\" stroke=\"black\" points=\"1358.15,-75.83 1365.34,-68.04 1354.86,-69.65 1358.15,-75.83\"/>\n",
       "</g>\n",
       "</g>\n",
       "</svg>\n"
      ],
      "text/plain": [
       "<graphviz.sources.Source at 0x25ce3044b20>"
      ]
     },
     "execution_count": 6,
     "metadata": {},
     "output_type": "execute_result"
    }
   ],
   "source": [
    "#displays the decision tree model visualization\n",
    "\n",
    "graph = Source.from_file(\"FER_ov2.dot\")\n",
    "graph.render(\"FER_ov2\")\n",
    "graph"
   ]
  },
  {
   "cell_type": "markdown",
   "id": "4c6bbe74",
   "metadata": {},
   "source": [
    "# Nature of Decision Tree\n",
    "\n",
    "Due to the large amount of columns, the decision tree is very large and difficult to interpret once the maximum depth increases in size. However, since it is still a decision tree, it is still possible to interpret the tree and trace the path of the decision tree when a new data point is inputted."
   ]
  },
  {
   "cell_type": "markdown",
   "id": "679b36a6",
   "metadata": {},
   "source": [
    "# Testing the Model\n",
    "We can observe the performance of the model using the confusion matrix and evaluation metrics."
   ]
  },
  {
   "cell_type": "code",
   "execution_count": 7,
   "id": "a6a5a752",
   "metadata": {
    "colab": {
     "base_uri": "https://localhost:8080/"
    },
    "id": "a6a5a752",
    "outputId": "f94ce2e4-9112-48e2-8abe-a46419fec606"
   },
   "outputs": [
    {
     "data": {
      "text/plain": [
       "array([0.42337782, 0.6786372 , 0.50276243, 0.62615101, 0.57090239])"
      ]
     },
     "execution_count": 7,
     "metadata": {},
     "output_type": "execute_result"
    }
   ],
   "source": [
    "\n",
    "cross_val_score(tree_clf,X_train,y_train, cv=5, scoring=\"accuracy\")\n",
    "\n"
   ]
  },
  {
   "cell_type": "code",
   "execution_count": 8,
   "id": "870e2712",
   "metadata": {
    "id": "870e2712"
   },
   "outputs": [],
   "source": [
    "y_emotion_predict = cross_val_predict(tree_clf, X_train, y_train, cv=3)"
   ]
  },
  {
   "cell_type": "code",
   "execution_count": 9,
   "id": "db14e191",
   "metadata": {
    "colab": {
     "base_uri": "https://localhost:8080/"
    },
    "id": "db14e191",
    "outputId": "23795095-7179-4cc5-f486-ef0f54828082"
   },
   "outputs": [
    {
     "data": {
      "text/plain": [
       "array([[1552,   45,  490,  789],\n",
       "       [  65, 1357,  363,  122],\n",
       "       [ 408,  123, 2014,  446],\n",
       "       [1248,   70,  585, 1184]], dtype=int64)"
      ]
     },
     "execution_count": 9,
     "metadata": {},
     "output_type": "execute_result"
    }
   ],
   "source": [
    "cm = confusion_matrix(y_train,y_emotion_predict)\n",
    "cm"
   ]
  },
  {
   "cell_type": "code",
   "execution_count": 10,
   "id": "66b7f7d8",
   "metadata": {
    "colab": {
     "base_uri": "https://localhost:8080/"
    },
    "id": "66b7f7d8",
    "outputId": "64014046-556b-41a4-cd15-05e71a98dfd1"
   },
   "outputs": [
    {
     "name": "stdout",
     "output_type": "stream",
     "text": [
      "Accuracy Score:  0.5622870822207899\n",
      "Precision Score:  0.5935886464772332\n",
      "Recall Score:  0.5770311392430936\n",
      "F1 Score:  0.5814278086441829\n"
     ]
    }
   ],
   "source": [
    "#accuracy score\n",
    "acs = accuracy_score(y_train,y_emotion_predict)\n",
    "\n",
    "#precision score\n",
    "#precision should be very high to avoid false positives\n",
    "ps =precision_score(y_train,y_emotion_predict, average = \"macro\")\n",
    "#recall score\n",
    "rs = recall_score(y_train, y_emotion_predict, pos_label='e',average='macro')\n",
    "#f1 score\n",
    "fs =f1_score(y_train, y_emotion_predict, pos_label='e', average='macro')\n",
    "\n",
    "print(\"Accuracy Score: \", acs)\n",
    "print(\"Precision Score: \", ps)\n",
    "print(\"Recall Score: \", rs)\n",
    "print(\"F1 Score: \", fs)"
   ]
  },
  {
   "cell_type": "code",
   "execution_count": 11,
   "id": "AkLl6KleSp_d",
   "metadata": {
    "colab": {
     "base_uri": "https://localhost:8080/"
    },
    "id": "AkLl6KleSp_d",
    "outputId": "a7ec90db-8439-4a00-cebf-1cc9d71e82d4"
   },
   "outputs": [
    {
     "data": {
      "text/plain": [
       "array([[ 222,    2,    9,  285],\n",
       "       [  29, 1109,  223,  126],\n",
       "       [  23,   12,  286,   82],\n",
       "       [  45,    3,    4,  255]], dtype=int64)"
      ]
     },
     "execution_count": 11,
     "metadata": {},
     "output_type": "execute_result"
    }
   ],
   "source": [
    "#Test set\n",
    "test_pred = tree_clf.predict(X_test)\n",
    "cm = confusion_matrix(y_test,test_pred)\n",
    "cm"
   ]
  },
  {
   "cell_type": "code",
   "execution_count": 12,
   "id": "89aoKRs3yCZC",
   "metadata": {
    "colab": {
     "base_uri": "https://localhost:8080/",
     "height": 452
    },
    "id": "89aoKRs3yCZC",
    "outputId": "de895dd6-9adb-407f-92b5-53973b312a9f"
   },
   "outputs": [
    {
     "data": {
      "image/png": "[encoded data removed]",
      "text/plain": [
       "<Figure size 640x480 with 2 Axes>"
      ]
     },
     "metadata": {},
     "output_type": "display_data"
    }
   ],
   "source": [
    "cmg = sb.heatmap(cm, annot=True, fmt='g')\n",
    "plt.title(\"Confusion Matrix of Decision Tree with Entropy Metric at max_depth = 3\")\n",
    "plt.savefig('heatmap.png', dpi=300, bbox_inches='tight')"
   ]
  },
  {
   "cell_type": "code",
   "execution_count": 13,
   "id": "b5CCkUDGUFFK",
   "metadata": {
    "colab": {
     "base_uri": "https://localhost:8080/"
    },
    "id": "b5CCkUDGUFFK",
    "outputId": "7f281f0f-ebc6-4300-aeca-7ac6294fe65a"
   },
   "outputs": [
    {
     "name": "stdout",
     "output_type": "stream",
     "text": [
      "Accuracy Score:  0.6895027624309392\n",
      "Precision Score:  0.6424072212911252\n",
      "Recall Score:  0.678666161739403\n",
      "F1 Score:  0.6202723524386422\n"
     ]
    }
   ],
   "source": [
    "acs_test = accuracy_score(y_test,test_pred)\n",
    "ps_test = precision_score(y_test,test_pred, average = \"macro\")\n",
    "rs_test = recall_score(y_test,test_pred,  average = \"macro\")\n",
    "fs_test = f1_score(y_test,test_pred,  average = \"macro\")\n",
    "\n",
    "print(\"Accuracy Score: \", acs_test)\n",
    "print(\"Precision Score: \", ps_test)\n",
    "print(\"Recall Score: \", rs_test)\n",
    "print(\"F1 Score: \", fs_test)"
   ]
  },
  {
   "cell_type": "markdown",
   "id": "a8ed620e",
   "metadata": {},
   "source": [
    "# Graphical Method for finding the best value of max_depth"
   ]
  },
  {
   "cell_type": "code",
   "execution_count": null,
   "id": "op4bPbw83uef",
   "metadata": {
    "id": "op4bPbw83uef"
   },
   "outputs": [
    {
     "name": "stdout",
     "output_type": "stream",
     "text": [
      "Done:  5\n",
      "Done:  6\n",
      "Done:  7\n",
      "Done:  8\n",
      "Done:  9\n",
      "Done:  10\n",
      "Done:  11\n",
      "Done:  12\n",
      "Done:  13\n",
      "Done:  14\n",
      "Done:  15\n",
      "Done:  16\n"
     ]
    }
   ],
   "source": [
    "max_depth = range(5, 26)\n",
    "acc_test = []\n",
    "acc_train = []\n",
    "prec_test = []\n",
    "prec_train = []\n",
    "rec_test = []\n",
    "rec_train = []\n",
    "f1_test = []\n",
    "f1_train = []\n",
    "\n",
    "for i in max_depth:\n",
    "    tree_clf = DecisionTreeClassifier(max_depth = i,random_state=42, criterion =\"entropy\")\n",
    "    tree_clf.fit(X_train,y_train)\n",
    "    y_emotion_predict = cross_val_predict(tree_clf, X_train, y_train, cv=3)\n",
    "    #append to each list\n",
    "    acc_train.append(accuracy_score(y_train,y_emotion_predict))\n",
    "    prec_train.append(precision_score(y_train,y_emotion_predict, average = \"macro\"))\n",
    "    rec_train.append(recall_score(y_train, y_emotion_predict,  average='macro'))\n",
    "    f1_train.append(f1_score(y_train, y_emotion_predict,  average='macro'))\n",
    "    test_pred = tree_clf.predict(X_test)\n",
    "    f1_test.append(f1_score(y_test,test_pred, average = \"macro\"))\n",
    "    acc_test.append(accuracy_score(y_test,test_pred))\n",
    "    prec_test.append(precision_score(y_test,test_pred, average = \"macro\"))\n",
    "    rec_test.append(recall_score(y_test,test_pred,  average='macro'))\n",
    "    print('Done: ', i)"
   ]
  },
  {
   "cell_type": "markdown",
   "id": "a18be8b9",
   "metadata": {},
   "source": [
    "# Comparison of Decision Tree Models\n",
    "\n",
    "The graphs below show the performance of the decision tree models with different max_depth values."
   ]
  },
  {
   "cell_type": "code",
   "execution_count": null,
   "id": "89ec7c88",
   "metadata": {},
   "outputs": [],
   "source": [
    "#plotting the accuracy, precision, recall and f1 score of test set\n",
    "\n",
    "plt.plot(max_depth, acc_test, label = 'Test Accuracy', color = 'red')\n",
    "plt.plot(max_depth, prec_test, label = 'Test Precision', color = 'green')\n",
    "plt.plot(max_depth, rec_test, label = 'Test Recall', color = 'blue')\n",
    "plt.plot(max_depth, f1_test, label = 'Test F1 Score', color = 'orange') \n",
    "\n",
    "plt.xlabel('Max Depth')\n",
    "plt.ylabel('Score')\n",
    "plt.title('Test Set Scores')\n",
    "plt.legend()\n",
    "plt.savefig('test_scores_ov2.png', dpi=300, bbox_inches='tight')\n",
    "plt.show()\n",
    "\n",
    "#plotting the accuracy, precision, recall and f1 score of train set\n",
    "\n",
    "plt.plot(max_depth, acc_train, label = 'Train Accuracy', color = 'red')\n",
    "plt.plot(max_depth, prec_train, label = 'Train Precision', color = 'green')\n",
    "plt.plot(max_depth, rec_train, label = 'Train Recall', color = 'blue')\n",
    "plt.plot(max_depth, f1_train, label = 'Train F1 Score', color = 'orange')\n",
    "\n",
    "plt.xlabel('Max Depth')\n",
    "plt.ylabel('Score')\n",
    "plt.title('Train Set Scores')\n",
    "plt.legend()\n",
    "plt.savefig('train_scores_ov2.png', dpi=300, bbox_inches='tight')\n",
    "plt.show()"
   ]
  },
  {
   "cell_type": "markdown",
   "id": "f92a8c48",
   "metadata": {},
   "source": [
    "# Selecting the best model\n",
    "\n",
    "The criteria best model is the one with the highest F1 score."
   ]
  },
  {
   "cell_type": "code",
   "execution_count": null,
   "id": "018b72b8",
   "metadata": {},
   "outputs": [],
   "source": [
    "#get the depth of the tree with the highest F1 score using index\n",
    "\n",
    "best_depth = max_depth[f1_test.index(max(f1_test))]\n",
    "best_depth"
   ]
  },
  {
   "cell_type": "markdown",
   "id": "fb6f2697",
   "metadata": {},
   "source": [
    "# Rerunning the model with the best max_depth value\n",
    "\n",
    "We will rerun the model with the best max_depth value to observe the performance of the model."
   ]
  },
  {
   "cell_type": "code",
   "execution_count": null,
   "id": "0c474c88",
   "metadata": {},
   "outputs": [],
   "source": [
    "#rerun the model with the best depth\n",
    "\n",
    "tree_clf = DecisionTreeClassifier(max_depth = best_depth,random_state=42, criterion =\"entropy\")\n",
    "\n",
    "tree_clf.fit(X_train,y_train)\n",
    "\n",
    "test_pred = tree_clf.predict(X_test)\n",
    "\n"
   ]
  },
  {
   "cell_type": "markdown",
   "id": "6d4aa579",
   "metadata": {},
   "source": [
    "# Validation of the Model"
   ]
  },
  {
   "cell_type": "code",
   "execution_count": null,
   "id": "908e1939",
   "metadata": {},
   "outputs": [],
   "source": [
    "# k-fold cross validation\n",
    "\n",
    "cross_val_score(tree_clf,X_train,y_train, cv=5, scoring=\"accuracy\")"
   ]
  },
  {
   "cell_type": "markdown",
   "id": "26bd6462",
   "metadata": {},
   "source": [
    "# Evaluation Metrics"
   ]
  },
  {
   "cell_type": "code",
   "execution_count": null,
   "id": "12271ee4",
   "metadata": {},
   "outputs": [],
   "source": [
    "# get the accuracy, precision, recall and f1 score of the best model\n",
    "\n",
    "acs_test = accuracy_score(y_test,test_pred)\n",
    "ps_test = precision_score(y_test,test_pred, average = \"macro\")\n",
    "rs_test = recall_score(y_test,test_pred,  average = \"macro\")\n",
    "fs_test = f1_score(y_test,test_pred,  average = \"macro\")\n",
    "\n",
    "print(\"Accuracy Score: \", \"{:.2%}\".format(acs_test))\n",
    "print(\"Precision Score: \", \"{:.2%}\".format(ps_test))\n",
    "print(\"Recall Score: \", \"{:.2%}\".format(rs_test))\n",
    "print(\"F1 Score: \", \"{:.2%}\".format(fs_test))"
   ]
  },
  {
   "cell_type": "markdown",
   "id": "705b6741",
   "metadata": {},
   "source": [
    "# Confusion matrix"
   ]
  },
  {
   "cell_type": "code",
   "execution_count": null,
   "id": "de54eaa7",
   "metadata": {},
   "outputs": [],
   "source": [
    "cm = confusion_matrix(y_test,test_pred)\n",
    "\n",
    "cmg = sb.heatmap(cm, annot=True, fmt='g')\n",
    "\n",
    "labels = tree_clf.classes_\n",
    "cmg.set_xticklabels(labels)\n",
    "cmg.set_yticklabels(labels)\n",
    "\n",
    "plt.title(\"Confusion Matrix of Decision Tree with Entropy Metric at max_depth = \" + str(best_depth))\n",
    "\n",
    "plt.savefig('heatmap_best_depth_ov2.png', dpi=300, bbox_inches='tight')"
   ]
  },
  {
   "cell_type": "markdown",
   "id": "f3650686",
   "metadata": {},
   "source": [
    "# Decision Tree Model Visualization"
   ]
  },
  {
   "cell_type": "code",
   "execution_count": null,
   "id": "d6314838",
   "metadata": {},
   "outputs": [],
   "source": [
    "export_graphviz(\n",
    "    tree_clf,\n",
    "    out_file=\"FER_ov2.dot\",\n",
    "    feature_names = feature_names,\n",
    "    class_names=labels,\n",
    "    rounded = True,\n",
    "    filled=True,\n",
    "    special_characters=True\n",
    ")\n",
    "\n",
    "graph = Source.from_file(\"FER_ov2.dot\")\n",
    "graph.render(\"FER_best_depth_ov2\")\n",
    "graph"
   ]
  }
 ],
 "metadata": {
  "colab": {
   "provenance": []
  },
  "kernelspec": {
   "display_name": "Python 3 (ipykernel)",
   "language": "python",
   "name": "python3"
  },
  "language_info": {
   "codemirror_mode": {
    "name": "ipython",
    "version": 3
   },
   "file_extension": ".py",
   "mimetype": "text/x-python",
   "name": "python",
   "nbconvert_exporter": "python",
   "pygments_lexer": "ipython3",
   "version": "3.10.9"
  },
  "vscode": {
   "interpreter": {
    "hash": "aee8b7b246df8f9039afb4144a1f6fd8d2ca17a180786b69acc140d282b71a49"
   }
  }
 },
 "nbformat": 4,
 "nbformat_minor": 5
}
