{
 "cells": [
  {
   "cell_type": "code",
   "execution_count": null,
   "id": "bb6c1ea9",
   "metadata": {},
   "outputs": [],
   "source": [
    "import pandas as pd\n",
    "from random import randint\n",
    "import matplotlib.pyplot as plt\n",
    "import matplotlib.image as mpimg\n",
    "import cv2\n",
    "import os\n",
    "import math\n",
    "import tensorflow as tf\n",
    "from sklearn.model_selection import train_test_split\n",
    "import statistics\n",
    "import numpy as np"
   ]
  },
  {
   "cell_type": "code",
   "execution_count": null,
   "id": "4727bc13",
   "metadata": {},
   "outputs": [],
   "source": [
    "#Import the dataset to use\n",
    "import pandas as pd\n",
    "landmarks_df = pd.read_csv('outputs/demo_landmarks.csv')"
   ]
  },
  {
   "cell_type": "code",
   "execution_count": null,
   "id": "8a2ec1df",
   "metadata": {},
   "outputs": [],
   "source": [
    "landmarks_df"
   ]
  },
  {
   "cell_type": "code",
   "execution_count": null,
   "id": "5d3c7915",
   "metadata": {
    "scrolled": true
   },
   "outputs": [],
   "source": [
    "landmarks_df.filter(regex=\"x\")"
   ]
  },
  {
   "cell_type": "code",
   "execution_count": null,
   "id": "be94e567",
   "metadata": {},
   "outputs": [],
   "source": [
    "landmarks_df.filter(regex=\"y\")"
   ]
  },
  {
   "cell_type": "code",
   "execution_count": null,
   "id": "a3e0ca39",
   "metadata": {},
   "outputs": [],
   "source": [
    "landmarks_df.filter(regex=\"z\")"
   ]
  },
  {
   "cell_type": "markdown",
   "id": "c7a4b77c",
   "metadata": {},
   "source": [
    "EDA 1: Find features with high correlation with each other"
   ]
  },
  {
   "cell_type": "code",
   "execution_count": null,
   "id": "e1b0d4b9",
   "metadata": {},
   "outputs": [],
   "source": [
    "import seaborn as sns\n",
    "x_landmarks_df = landmarks_df.iloc[:,3:]\n"
   ]
  },
  {
   "cell_type": "code",
   "execution_count": null,
   "id": "38fb09ba",
   "metadata": {},
   "outputs": [],
   "source": [
    "# close any existing plots\n",
    "plt.close(\"all\")\n",
    "\n",
    "# copy columns to double size of dataframe\n",
    "df2 = x_landmarks_df.copy()\n",
    "df2.columns = \"c_\" + df2.columns\n",
    "df3 = pd.concat([x_landmarks_df, df2], axis=1)\n",
    "\n",
    "# get the correlation coefficient between the different columns\n",
    "corr = df3.iloc[:, 1:].corr()\n",
    "arr_corr = corr.as_matrix()\n",
    "# mask out the top triangle\n",
    "arr_corr[np.triu_indices_from(arr_corr)] = np.nan\n",
    "\n",
    "fig, ax = plt.subplots(figsize=(24, 18))\n",
    "\n",
    "hm = sns.heatmap(arr_corr, cbar=True, vmin=-0.5, vmax=0.5,\n",
    "                 fmt='.2f', annot_kws={'size': 3}, annot=True, \n",
    "                 square=True, cmap=plt.cm.Blues)\n",
    "\n",
    "ticks = np.arange(corr.shape[0]) + 0.5\n",
    "ax.set_xticks(ticks)\n",
    "ax.set_xticklabels(corr.columns, rotation=90, fontsize=8)\n",
    "ax.set_yticks(ticks)\n",
    "ax.set_yticklabels(corr.index, rotation=360, fontsize=8)\n",
    "\n",
    "ax.set_title('correlation matrix')\n",
    "plt.tight_layout()\n",
    "plt.savefig(\"corr_matrix_incl_anno_double.png\", dpi=300)\n"
   ]
  },
  {
   "cell_type": "code",
   "execution_count": null,
   "id": "f3306ee2",
   "metadata": {},
   "outputs": [],
   "source": [
    "plt.show()"
   ]
  },
  {
   "cell_type": "code",
   "execution_count": null,
   "id": "f5095e1a",
   "metadata": {},
   "outputs": [],
   "source": [
    "import pandas as pd\n",
    "\n",
    "df1 = pd.DataFrame([{'title': 'As It Was', 'artist': 'Harry Styles', 'album': \"Harry's House\", 'month': 4 },\n",
    "    {'title': 'Bad Habit', 'artist': 'Steve Lacy', 'album': 'Gemini Rights', 'month': 6 },\n",
    "    {'title': 'Constant Repeat', 'artist': 'Charli XCX', 'album': \"CRASH\", 'month': 3 },\n",
    "    {'title': 'Pink Funeral', 'artist': 'Beach House', 'album': \"Once Twice Melody\", 'month': 2 },\n",
    "    {'title': 'BREAK MY SOUL', 'artist': 'Beyonce', 'album': \"RENAISSANCE\", 'month': 7 },\n",
    "    {'title': 'Sidelines', 'artist': 'Phoebe Bridgers', 'album': \"Sidelines\", 'month': 4 },\n",
    "    {'title': 'Glimpse of Us', 'artist': 'Joji', 'album': \"Glimpse of Us\", 'month': 6 },\n",
    "    {'title': 'Pink Venom', 'artist': 'BLACKPINK', 'album': \"Pink Venom\", 'month': 8 },\n",
    "    {'title': 'Vegas', 'artist': 'Doja Cat', 'album': \"ELVIS (Original Motion Picture Soundtrack)\", 'month': 6 },\n",
    "    {'title': 'First Class', 'artist': 'Jack Harlow', 'album': \"Come Home The Kids Miss You\", 'month': 5 }\n",
    "])"
   ]
  },
  {
   "cell_type": "code",
   "execution_count": null,
   "id": "287e1122",
   "metadata": {},
   "outputs": [],
   "source": [
    "sample1 = df1.sample(5)\n",
    "sample1"
   ]
  },
  {
   "cell_type": "code",
   "execution_count": null,
   "id": "c924e147",
   "metadata": {},
   "outputs": [],
   "source": [
    "sample2 = df1.sample(5)\n",
    "sample2"
   ]
  },
  {
   "cell_type": "code",
   "execution_count": null,
   "id": "12af829f",
   "metadata": {},
   "outputs": [],
   "source": [
    "sample2[sample2.index.isin( sample1.index )]"
   ]
  },
  {
   "cell_type": "code",
   "execution_count": null,
   "id": "4463fa03",
   "metadata": {},
   "outputs": [],
   "source": []
  }
 ],
 "metadata": {
  "kernelspec": {
   "display_name": "Python 3 (ipykernel)",
   "language": "python",
   "name": "python3"
  },
  "language_info": {
   "codemirror_mode": {
    "name": "ipython",
    "version": 3
   },
   "file_extension": ".py",
   "mimetype": "text/x-python",
   "name": "python",
   "nbconvert_exporter": "python",
   "pygments_lexer": "ipython3",
   "version": "3.10.9"
  }
 },
 "nbformat": 4,
 "nbformat_minor": 5
}
